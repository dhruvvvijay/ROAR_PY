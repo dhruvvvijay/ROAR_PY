{
 "cells": [
  {
   "cell_type": "code",
   "execution_count": 1,
   "metadata": {},
   "outputs": [
    {
     "name": "stdout",
     "output_type": "stream",
     "text": [
      "ROAR_PY_CARLA: Cleaning up actor instance map\n"
     ]
    }
   ],
   "source": [
    "import roar_py_carla\n",
    "import roar_py_interface\n",
    "import carla\n",
    "import numpy as np\n",
    "\n",
    "carla_client = carla.Client('localhost', 2000)\n",
    "carla_client.set_timeout(15.0)\n",
    "roar_py_instance = roar_py_carla.RoarPyCarlaInstance(carla_client)\n",
    "roar_py_world = roar_py_instance.world\n",
    "roar_py_world.set_asynchronous(True)\n",
    "roar_py_world.set_control_steps(0.00, 0.005)\n",
    "\n",
    "waypoint_list = []\n",
    "first_waypoint_laneid = roar_py_world._native_carla_waypoints[0].lane_id\n",
    "for waypoint in roar_py_world._native_carla_waypoints:\n",
    "    if waypoint.lane_id != first_waypoint_laneid:\n",
    "        continue\n",
    "    transform_w = roar_py_carla.transform_from_carla(waypoint.transform)\n",
    "    waypoint_list.append(roar_py_interface.RoarPyWaypoint(\n",
    "        transform_w[0],\n",
    "        transform_w[1],\n",
    "        waypoint.lane_width\n",
    "    ))\n",
    "\n",
    "\n",
    "roar_py_instance.close()\n",
    "np.savez_compressed(\"Monza.npz\", **roar_py_interface.RoarPyWaypoint.save_waypoint_list(waypoint_list))"
   ]
  },
  {
   "cell_type": "code",
   "execution_count": null,
   "metadata": {},
   "outputs": [],
   "source": []
  }
 ],
 "metadata": {
  "kernelspec": {
   "display_name": "roar_py",
   "language": "python",
   "name": "python3"
  },
  "language_info": {
   "codemirror_mode": {
    "name": "ipython",
    "version": 3
   },
   "file_extension": ".py",
   "mimetype": "text/x-python",
   "name": "python",
   "nbconvert_exporter": "python",
   "pygments_lexer": "ipython3",
   "version": "3.8.16"
  },
  "orig_nbformat": 4
 },
 "nbformat": 4,
 "nbformat_minor": 2
}
